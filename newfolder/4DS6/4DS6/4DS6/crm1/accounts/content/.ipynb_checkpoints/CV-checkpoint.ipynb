{
 "cells": [
  {
   "cell_type": "code",
   "execution_count": 1,
   "id": "1ba52775-9c4d-491b-b18a-ec0352f9e637",
   "metadata": {},
   "outputs": [
    {
     "name": "stdout",
     "output_type": "stream",
     "text": [
      "Requirement already satisfied: ultralytics in c:\\users\\asus\\anaconda3\\lib\\site-packages (8.0.98)\n",
      "Requirement already satisfied: matplotlib>=3.2.2 in c:\\users\\asus\\anaconda3\\lib\\site-packages (from ultralytics) (3.6.3)\n",
      "Requirement already satisfied: Pillow>=7.1.2 in c:\\users\\asus\\anaconda3\\lib\\site-packages (from ultralytics) (9.4.0)\n",
      "Requirement already satisfied: scipy>=1.4.1 in c:\\users\\asus\\anaconda3\\lib\\site-packages (from ultralytics) (1.9.3)\n",
      "Requirement already satisfied: psutil in c:\\users\\asus\\anaconda3\\lib\\site-packages (from ultralytics) (5.8.0)\n",
      "Requirement already satisfied: opencv-python>=4.6.0 in c:\\users\\asus\\anaconda3\\lib\\site-packages (from ultralytics) (4.7.0.72)\n",
      "Requirement already satisfied: pandas>=1.1.4 in c:\\users\\asus\\anaconda3\\lib\\site-packages (from ultralytics) (1.5.3)\n",
      "Requirement already satisfied: PyYAML>=5.3.1 in c:\\users\\asus\\anaconda3\\lib\\site-packages (from ultralytics) (6.0)\n",
      "Requirement already satisfied: torch>=1.7.0 in c:\\users\\asus\\anaconda3\\lib\\site-packages (from ultralytics) (2.0.1)\n",
      "Requirement already satisfied: torchvision>=0.8.1 in c:\\users\\asus\\anaconda3\\lib\\site-packages (from ultralytics) (0.15.2)\n",
      "Requirement already satisfied: thop>=0.1.1 in c:\\users\\asus\\anaconda3\\lib\\site-packages (from ultralytics) (0.1.1.post2209072238)\n",
      "Requirement already satisfied: tqdm>=4.64.0 in c:\\users\\asus\\anaconda3\\lib\\site-packages (from ultralytics) (4.65.0)\n",
      "Requirement already satisfied: requests>=2.23.0 in c:\\users\\asus\\anaconda3\\lib\\site-packages (from ultralytics) (2.27.1)\n",
      "Requirement already satisfied: sentry-sdk in c:\\users\\asus\\anaconda3\\lib\\site-packages (from ultralytics) (1.22.2)\n",
      "Requirement already satisfied: seaborn>=0.11.0 in c:\\users\\asus\\anaconda3\\lib\\site-packages (from ultralytics) (0.12.2)\n",
      "Requirement already satisfied: fonttools>=4.22.0 in c:\\users\\asus\\anaconda3\\lib\\site-packages (from matplotlib>=3.2.2->ultralytics) (4.25.0)\n",
      "Requirement already satisfied: kiwisolver>=1.0.1 in c:\\users\\asus\\anaconda3\\lib\\site-packages (from matplotlib>=3.2.2->ultralytics) (1.3.1)\n",
      "Requirement already satisfied: contourpy>=1.0.1 in c:\\users\\asus\\anaconda3\\lib\\site-packages (from matplotlib>=3.2.2->ultralytics) (1.0.7)\n",
      "Requirement already satisfied: numpy>=1.19 in c:\\users\\asus\\anaconda3\\lib\\site-packages (from matplotlib>=3.2.2->ultralytics) (1.23.5)\n",
      "Requirement already satisfied: pyparsing>=2.2.1 in c:\\users\\asus\\anaconda3\\lib\\site-packages (from matplotlib>=3.2.2->ultralytics) (3.0.4)\n",
      "Requirement already satisfied: cycler>=0.10 in c:\\users\\asus\\anaconda3\\lib\\site-packages (from matplotlib>=3.2.2->ultralytics) (0.10.0)\n",
      "Requirement already satisfied: python-dateutil>=2.7 in c:\\users\\asus\\anaconda3\\lib\\site-packages (from matplotlib>=3.2.2->ultralytics) (2.8.2)\n",
      "Requirement already satisfied: packaging>=20.0 in c:\\users\\asus\\anaconda3\\lib\\site-packages (from matplotlib>=3.2.2->ultralytics) (23.0)\n",
      "Requirement already satisfied: six in c:\\users\\asus\\anaconda3\\lib\\site-packages (from cycler>=0.10->matplotlib>=3.2.2->ultralytics) (1.12.0)\n",
      "Requirement already satisfied: pytz>=2020.1 in c:\\users\\asus\\anaconda3\\lib\\site-packages (from pandas>=1.1.4->ultralytics) (2021.3)\n",
      "Requirement already satisfied: certifi>=2017.4.17 in c:\\users\\asus\\anaconda3\\lib\\site-packages (from requests>=2.23.0->ultralytics) (2021.10.8)\n",
      "Requirement already satisfied: urllib3<1.27,>=1.21.1 in c:\\users\\asus\\anaconda3\\lib\\site-packages (from requests>=2.23.0->ultralytics) (1.26.15)\n",
      "Requirement already satisfied: charset-normalizer~=2.0.0 in c:\\users\\asus\\anaconda3\\lib\\site-packages (from requests>=2.23.0->ultralytics) (2.0.4)\n",
      "Requirement already satisfied: idna<4,>=2.5 in c:\\users\\asus\\anaconda3\\lib\\site-packages (from requests>=2.23.0->ultralytics) (2.10)\n",
      "Requirement already satisfied: sympy in c:\\users\\asus\\anaconda3\\lib\\site-packages (from torch>=1.7.0->ultralytics) (1.9)\n",
      "Requirement already satisfied: jinja2 in c:\\users\\asus\\anaconda3\\lib\\site-packages (from torch>=1.7.0->ultralytics) (2.11.3)\n",
      "Requirement already satisfied: networkx in c:\\users\\asus\\anaconda3\\lib\\site-packages (from torch>=1.7.0->ultralytics) (2.6.3)\n",
      "Requirement already satisfied: typing-extensions in c:\\users\\asus\\anaconda3\\lib\\site-packages (from torch>=1.7.0->ultralytics) (4.5.0)\n",
      "Requirement already satisfied: filelock in c:\\users\\asus\\anaconda3\\lib\\site-packages (from torch>=1.7.0->ultralytics) (3.3.1)\n",
      "Requirement already satisfied: colorama in c:\\users\\asus\\anaconda3\\lib\\site-packages (from tqdm>=4.64.0->ultralytics) (0.4.6)\n",
      "Requirement already satisfied: MarkupSafe>=0.23 in c:\\users\\asus\\anaconda3\\lib\\site-packages (from jinja2->torch>=1.7.0->ultralytics) (1.1.1)\n",
      "Requirement already satisfied: mpmath>=0.19 in c:\\users\\asus\\anaconda3\\lib\\site-packages (from sympy->torch>=1.7.0->ultralytics) (1.2.1)\n"
     ]
    }
   ],
   "source": [
    "# Pip install method (recommended)\n",
    "!pip install --default-timeout=100 ultralytics"
   ]
  },
  {
   "cell_type": "code",
   "execution_count": 2,
   "id": "393a237b-cb44-4cfb-b606-6543f95449f4",
   "metadata": {},
   "outputs": [
    {
     "name": "stdout",
     "output_type": "stream",
     "text": [
      "C:\\Users\\ASUS\\code\\src\\content\n"
     ]
    }
   ],
   "source": [
    "import os\n",
    "HOME = os.getcwd()\n",
    "print(HOME)"
   ]
  },
  {
   "cell_type": "code",
   "execution_count": 3,
   "id": "494b4931-d2ce-41fa-a19e-3f88241b4244",
   "metadata": {},
   "outputs": [
    {
     "name": "stdout",
     "output_type": "stream",
     "text": [
      "Mon Jun 19 09:03:09 2023       \n",
      "+-----------------------------------------------------------------------------+\n",
      "| NVIDIA-SMI 399.24                 Driver Version: 399.24                    |\n",
      "|-------------------------------+----------------------+----------------------+\n",
      "| GPU  Name            TCC/WDDM | Bus-Id        Disp.A | Volatile Uncorr. ECC |\n",
      "| Fan  Temp  Perf  Pwr:Usage/Cap|         Memory-Usage | GPU-Util  Compute M. |\n",
      "|===============================+======================+======================|\n",
      "|   0  GeForce 920M       WDDM  | 00000000:01:00.0 N/A |                  N/A |\n",
      "| N/A   43C    P8    N/A /  N/A |     38MiB /  2048MiB |     N/A      Default |\n",
      "+-------------------------------+----------------------+----------------------+\n",
      "                                                                               \n",
      "+-----------------------------------------------------------------------------+\n",
      "| Processes:                                                       GPU Memory |\n",
      "|  GPU       PID   Type   Process name                             Usage      |\n",
      "|=============================================================================|\n",
      "|    0                    Not Supported                                       |\n",
      "+-----------------------------------------------------------------------------+\n"
     ]
    }
   ],
   "source": [
    "!nvidia-smi"
   ]
  },
  {
   "cell_type": "code",
   "execution_count": 4,
   "id": "936eef2a-f274-4ee9-8d1a-7f2a71846a3d",
   "metadata": {},
   "outputs": [
    {
     "name": "stderr",
     "output_type": "stream",
     "text": [
      "Ultralytics YOLOv8.0.98  Python-3.9.7 torch-2.0.1+cpu CPU\n",
      "Setup complete  (4 CPUs, 15.9 GB RAM, 121.1/232.2 GB disk)\n"
     ]
    }
   ],
   "source": [
    "from IPython import display\n",
    "display.clear_output()\n",
    "\n",
    "import ultralytics\n",
    "ultralytics.checks()"
   ]
  },
  {
   "cell_type": "code",
   "execution_count": 5,
   "id": "87513315-d535-4ac8-a07a-c162095a6da2",
   "metadata": {},
   "outputs": [],
   "source": [
    "from ultralytics import YOLO\n",
    "\n",
    "from IPython.display import display, Image"
   ]
  },
  {
   "cell_type": "code",
   "execution_count": 6,
   "id": "00c0778f-6f38-4b7c-a0d6-b81d902cedc1",
   "metadata": {},
   "outputs": [
    {
     "name": "stderr",
     "output_type": "stream",
     "text": [
      "\n",
      "image 1/1 C:\\Users\\ASUS\\code\\src\\content\\datasets\\content\\datasets\\train\\images\\cv13_page-0001.jpg: 800x576 1 competance, 1 langues, 1 centre, 1 contact, 729.5ms\n",
      "Speed: 11.2ms preprocess, 729.5ms inference, 10.0ms postprocess per image at shape (1, 3, 800, 800)\n"
     ]
    }
   ],
   "source": [
    "model = YOLO(f'C:/Users/ASUS/code/src/content/runs/content/runs/detect/train/weights/best.pt')\n",
    "results=model.predict(source='C:/Users/ASUS/code/src/content/datasets/content/datasets/train/images/cv13_page-0001.jpg', conf=0.8)"
   ]
  },
  {
   "cell_type": "code",
   "execution_count": 7,
   "id": "b16d260f-7b01-44ce-94f9-77c54113e7b0",
   "metadata": {},
   "outputs": [
    {
     "data": {
      "text/plain": [
       "tensor([[   7.3196,  841.4520,  406.6546, 1452.9718],\n",
       "        [  12.5884, 1457.3173,  398.6509, 1650.9364],\n",
       "        [   5.5708,  406.5008,  418.6696,  633.4506],\n",
       "        [   6.5817,  642.2875,  417.6177,  834.7217]])"
      ]
     },
     "execution_count": 7,
     "metadata": {},
     "output_type": "execute_result"
    }
   ],
   "source": [
    "results[0].boxes.xyxy"
   ]
  },
  {
   "cell_type": "code",
   "execution_count": 8,
   "id": "bb0b98ca-32df-4a1f-bc64-ce696ca687e5",
   "metadata": {},
   "outputs": [
    {
     "data": {
      "text/plain": [
       "tensor([0.9486, 0.9378, 0.9279, 0.9176])"
      ]
     },
     "execution_count": 8,
     "metadata": {},
     "output_type": "execute_result"
    }
   ],
   "source": [
    "results[0].boxes.conf"
   ]
  },
  {
   "cell_type": "code",
   "execution_count": 9,
   "id": "70ebb7e8-42fb-486b-8bf8-7c4b7c543b85",
   "metadata": {},
   "outputs": [
    {
     "data": {
      "text/plain": [
       "tensor([1., 5., 6., 4.])"
      ]
     },
     "execution_count": 9,
     "metadata": {},
     "output_type": "execute_result"
    }
   ],
   "source": [
    "results[0].boxes.cls"
   ]
  },
  {
   "cell_type": "code",
   "execution_count": 10,
   "id": "4e1f1f28-702e-40c0-bcde-89b5b9e6efa3",
   "metadata": {},
   "outputs": [
    {
     "name": "stderr",
     "output_type": "stream",
     "text": [
      "\n",
      "image 1/1 C:\\Users\\ASUS\\code\\src\\content\\datasets\\content\\datasets\\train\\images\\cv14_page-0001.jpg: 800x576 1 profile, 1 experience, 1 formation, 1 langues, 1 contact, 780.9ms\n",
      "Speed: 11.0ms preprocess, 780.9ms inference, 2.0ms postprocess per image at shape (1, 3, 800, 800)\n"
     ]
    },
    {
     "name": "stdout",
     "output_type": "stream",
     "text": [
      "C:/Users/ASUS/code/src/content/output/content/output\\profile\\cv14_page-0001-0.jpg\n",
      "C:/Users/ASUS/code/src/content/output/content/output\\experience_professionnelle\\cv14_page-0001-2.jpg\n",
      "C:/Users/ASUS/code/src/content/output/content/output\\formation\\cv14_page-0001-3.jpg\n",
      "C:/Users/ASUS/code/src/content/output/content/output\\langues\\cv14_page-0001-4.jpg\n",
      "C:/Users/ASUS/code/src/content/output/content/output\\Contact\\cv14_page-0001-6.jpg\n"
     ]
    },
    {
     "data": {
      "text/html": [
       "<div>\n",
       "<style scoped>\n",
       "    .dataframe tbody tr th:only-of-type {\n",
       "        vertical-align: middle;\n",
       "    }\n",
       "\n",
       "    .dataframe tbody tr th {\n",
       "        vertical-align: top;\n",
       "    }\n",
       "\n",
       "    .dataframe thead th {\n",
       "        text-align: right;\n",
       "    }\n",
       "</style>\n",
       "<table border=\"1\" class=\"dataframe\">\n",
       "  <thead>\n",
       "    <tr style=\"text-align: right;\">\n",
       "      <th></th>\n",
       "      <th>profile</th>\n",
       "      <th>competance</th>\n",
       "      <th>experience_professionnelle</th>\n",
       "      <th>formation</th>\n",
       "      <th>langues</th>\n",
       "      <th>centre</th>\n",
       "      <th>Contact</th>\n",
       "    </tr>\n",
       "  </thead>\n",
       "  <tbody>\n",
       "    <tr>\n",
       "      <th>0</th>\n",
       "      <td>PROFIL\\n\\nActuellement, étudiant en 3eme année...</td>\n",
       "      <td>NaN</td>\n",
       "      <td>EXPERIENCES PROFESSIONNELLES\\n\\nStagiaire, Ara...</td>\n",
       "      <td>EDUCATION\\n\\nIngénierie en Intelligence Artifi...</td>\n",
       "      <td>LANGUES\\nArabe\\nFrancais\\nAnglais\\n\\nAllemand\\...</td>\n",
       "      <td>NaN</td>\n",
       "      <td>Aloulou Karim\\nEtudiant en ingénierie en IA\\n\\...</td>\n",
       "    </tr>\n",
       "  </tbody>\n",
       "</table>\n",
       "</div>"
      ],
      "text/plain": [
       "                                             profile competance  \\\n",
       "0  PROFIL\\n\\nActuellement, étudiant en 3eme année...        NaN   \n",
       "\n",
       "                          experience_professionnelle  \\\n",
       "0  EXPERIENCES PROFESSIONNELLES\\n\\nStagiaire, Ara...   \n",
       "\n",
       "                                           formation  \\\n",
       "0  EDUCATION\\n\\nIngénierie en Intelligence Artifi...   \n",
       "\n",
       "                                             langues centre  \\\n",
       "0  LANGUES\\nArabe\\nFrancais\\nAnglais\\n\\nAllemand\\...    NaN   \n",
       "\n",
       "                                             Contact  \n",
       "0  Aloulou Karim\\nEtudiant en ingénierie en IA\\n\\...  "
      ]
     },
     "execution_count": 10,
     "metadata": {},
     "output_type": "execute_result"
    }
   ],
   "source": [
    "import os\n",
    "import cv2\n",
    "import pytesseract\n",
    "import pandas as pd\n",
    "import numpy as np\n",
    "from IPython.display import display, Image, clear_output\n",
    "from ultralytics import YOLO\n",
    "\n",
    "def extract_values2(img_path, save_path, name, bboxes, probs, names):\n",
    "    img = cv2.imread(img_path)\n",
    "    img2 = img.copy()\n",
    "    \n",
    "    class_names = {0: 'profile', 1: 'competance', 2: 'experience_professionnelle', 3: 'formation', 4: 'langues', 5: 'centre', 6: 'Contact'}\n",
    "    dicts = {0: {}, 1: {}, 2: {}, 3: {}, 4: {}, 5: {}, 6: {}}\n",
    "    \n",
    "    df = pd.DataFrame(columns=['profile', 'competance', 'experience_professionnelle', 'formation', 'langues', 'centre', 'Contact'])  # Create an empty DataFrame with specified columns\n",
    "    \n",
    "    for box, prob, index in zip(bboxes, probs.tolist(), names):\n",
    "        class_dict = dicts[int(index)]\n",
    "        class_dict[prob] = box\n",
    "\n",
    "    for index, class_dict in dicts.items():\n",
    "        if len(class_dict) != 0:\n",
    "            max_prob = max(class_dict.keys())\n",
    "            box = class_dict[max_prob]\n",
    "            x1, y1, x2, y2 = box\n",
    "            x1, y1, x2, y2 = int(x1), int(y1), int(x2), int(y2)\n",
    "\n",
    "            cv2.rectangle(img, (x1, y1), (x2, y2), (0, 0, 255), 2)\n",
    "            cropped_image = img2[y1:y2, x1:x2]\n",
    "\n",
    "            folder_path = class_names[index]\n",
    "            if not os.path.exists(os.path.join(save_path, folder_path)):\n",
    "                os.makedirs(os.path.join(save_path, folder_path))\n",
    "                \n",
    "            file_path = os.path.join(save_path, folder_path, f\"{name.split('.')[0]}-{index}.jpg\")\n",
    "            cv2.imwrite(file_path, cropped_image)\n",
    "            print(file_path)\n",
    "            \n",
    "            # Extract the text from the box using Tesseract\n",
    "            text = pytesseract.image_to_string(cropped_image)\n",
    "            # Add the box name and text to the DataFrame\n",
    "            #df.at[0, folder_path] = text\n",
    "            df.at[0, folder_path] = text if text else None\n",
    "\n",
    "    # Save the DataFrame to CSV\n",
    "    df.to_csv('my_dataframe.csv', index=False)\n",
    "    \n",
    "    return df\n",
    "\n",
    "clear_output()\n",
    "\n",
    "model = YOLO('C:/Users/ASUS/code/src/content/runs/content/runs/detect/train/weights/best.pt')\n",
    "results = model.predict(source='C:/Users/ASUS/code/src/content/datasets/content/datasets/train/images/cv14_page-0001.jpg', conf=0.8)\n",
    "\n",
    "img_path = \"C:/Users/ASUS/code/src/content/datasets/content/datasets/train/images/cv14_page-0001.jpg\"\n",
    "#img_path = \"C:/Users/ASUS/code/src/content/datasets/content/datasets/train/images/inbound1315652106390704018_page-0001.jpg\"\n",
    "save_path = \"C:/Users/ASUS/code/src/content/output/content/output\"\n",
    "name = \"cv14_page-0001.jpg\"\n",
    "#name = \"inbound1315652106390704018_page-0001.jpg\"\n",
    "bboxes = results[0].boxes.xyxy  # les coordonnées des boîtes englobantes\n",
    "probs = results[0].boxes.conf  # les confiances des prédictions\n",
    "names = results[0].boxes.cls   # les classes des prédictions\n",
    "\n",
    "extract_values2(img_path, save_path, name, bboxes, probs, names)\n"
   ]
  },
  {
   "cell_type": "code",
   "execution_count": null,
   "id": "dd8fc727-e628-4046-a3db-a4e6fd4ac2a8",
   "metadata": {},
   "outputs": [],
   "source": [
    "##Lowercase"
   ]
  },
  {
   "cell_type": "code",
   "execution_count": 12,
   "id": "15562adb-84c0-4b13-b944-a39cd192fada",
   "metadata": {},
   "outputs": [
    {
     "name": "stdout",
     "output_type": "stream",
     "text": [
      "                                             profile  competance  \\\n",
      "0  profil  actuellement, étudiant en 3eme année c...         NaN   \n",
      "\n",
      "                          experience_professionnelle  \\\n",
      "0  experiences professionnelles  stagiaire, arab ...   \n",
      "\n",
      "                                           formation  \\\n",
      "0  education  ingénierie en intelligence artifici...   \n",
      "\n",
      "                                             langues  centre  \\\n",
      "0  langues arabe francais anglais  allemand  dist...     NaN   \n",
      "\n",
      "                                             Contact  \n",
      "0  aloulou karim etudiant en ingénierie en ia  * ...  \n"
     ]
    }
   ],
   "source": [
    "import pandas as pd\n",
    "import re\n",
    "\n",
    "# Read the CSV file into a DataFrame\n",
    "df = pd.read_csv(\"my_dataframe.csv\")\n",
    "\n",
    "# Clean and preprocess the DataFrame\n",
    "df = df.apply(lambda x: x.astype(str).str.lower().str.strip() if x.dtype == \"object\" else x)\n",
    "\n",
    "# Remove '\\n' and '\\r' characters by replacing them with whitespace\n",
    "df = df.replace({'\\n': ' ', '\\r': ' '}, regex=True)\n",
    "\n",
    "# Sort all string columns\n",
    "for col in df.columns:\n",
    "    if df[col].dtype == \"object\":\n",
    "        df[col] = df[col].sort_values()\n",
    "\n",
    "# Display the cleaned and sorted DataFrame\n",
    "print(df)\n"
   ]
  },
  {
   "cell_type": "code",
   "execution_count": 13,
   "id": "834457db-0fb0-4201-b768-e95f451da45f",
   "metadata": {},
   "outputs": [],
   "source": [
    "##Features_extraction"
   ]
  },
  {
   "cell_type": "code",
   "execution_count": 14,
   "id": "3962b345-41c7-4d80-9840-078c68af1ae7",
   "metadata": {},
   "outputs": [],
   "source": [
    "###Langues"
   ]
  },
  {
   "cell_type": "code",
   "execution_count": 15,
   "id": "62e20807-e831-4f75-b51c-1df3eb6df971",
   "metadata": {},
   "outputs": [],
   "source": [
    "import re\n",
    "\n",
    "# List of language keywords (including additional languages)\n",
    "language_keywords = ['francais', 'anglais', 'allemand', 'espagnol', 'italien', 'arab']\n",
    "\n",
    "# Iterate over the rows in the 'langues' column of the DataFrame\n",
    "for index, row in df.iterrows():\n",
    "    text = row['langues']\n",
    "\n",
    "    # Utilizing regular expression to extract languages\n",
    "    languages = re.findall(r\"\\b([A-Za-zéèëêàâîïôùûü]+)\\b\", text)\n",
    "\n",
    "    # Normalizing languages to lowercase\n",
    "    normalized_languages = [language.lower() for language in languages]\n",
    "\n",
    "    # Selecting languages that match the keywords (case-insensitive)\n",
    "    selected_languages = [language for language in normalized_languages if language.lower() in [lang.lower() for lang in language_keywords]]\n",
    "\n",
    "    # Update the 'langues' column with the selected languages\n",
    "    df.at[index, 'langues'] = selected_languages\n"
   ]
  },
  {
   "cell_type": "code",
   "execution_count": 16,
   "id": "9522db30-01b9-4fbb-9290-99b3f8f18ffb",
   "metadata": {},
   "outputs": [
    {
     "data": {
      "text/html": [
       "<div>\n",
       "<style scoped>\n",
       "    .dataframe tbody tr th:only-of-type {\n",
       "        vertical-align: middle;\n",
       "    }\n",
       "\n",
       "    .dataframe tbody tr th {\n",
       "        vertical-align: top;\n",
       "    }\n",
       "\n",
       "    .dataframe thead th {\n",
       "        text-align: right;\n",
       "    }\n",
       "</style>\n",
       "<table border=\"1\" class=\"dataframe\">\n",
       "  <thead>\n",
       "    <tr style=\"text-align: right;\">\n",
       "      <th></th>\n",
       "      <th>profile</th>\n",
       "      <th>competance</th>\n",
       "      <th>experience_professionnelle</th>\n",
       "      <th>formation</th>\n",
       "      <th>langues</th>\n",
       "      <th>centre</th>\n",
       "      <th>Contact</th>\n",
       "    </tr>\n",
       "  </thead>\n",
       "  <tbody>\n",
       "    <tr>\n",
       "      <th>0</th>\n",
       "      <td>profil  actuellement, étudiant en 3eme année c...</td>\n",
       "      <td>NaN</td>\n",
       "      <td>experiences professionnelles  stagiaire, arab ...</td>\n",
       "      <td>education  ingénierie en intelligence artifici...</td>\n",
       "      <td>[francais, anglais, allemand]</td>\n",
       "      <td>NaN</td>\n",
       "      <td>aloulou karim etudiant en ingénierie en ia  * ...</td>\n",
       "    </tr>\n",
       "  </tbody>\n",
       "</table>\n",
       "</div>"
      ],
      "text/plain": [
       "                                             profile  competance  \\\n",
       "0  profil  actuellement, étudiant en 3eme année c...         NaN   \n",
       "\n",
       "                          experience_professionnelle  \\\n",
       "0  experiences professionnelles  stagiaire, arab ...   \n",
       "\n",
       "                                           formation  \\\n",
       "0  education  ingénierie en intelligence artifici...   \n",
       "\n",
       "                         langues  centre  \\\n",
       "0  [francais, anglais, allemand]     NaN   \n",
       "\n",
       "                                             Contact  \n",
       "0  aloulou karim etudiant en ingénierie en ia  * ...  "
      ]
     },
     "execution_count": 16,
     "metadata": {},
     "output_type": "execute_result"
    }
   ],
   "source": [
    "df"
   ]
  },
  {
   "cell_type": "code",
   "execution_count": 17,
   "id": "e0ad0244-ee7e-46c5-963a-93d77cb797c8",
   "metadata": {},
   "outputs": [],
   "source": [
    "#Email and number"
   ]
  },
  {
   "cell_type": "code",
   "execution_count": 18,
   "id": "db0a9eb6-00ce-466c-b41a-a4ac9c4250d3",
   "metadata": {},
   "outputs": [],
   "source": [
    "import re\n",
    "\n",
    "# Définition des expressions régulières\n",
    "phone_regex = r\"\\b\\d{8}\\b\"\n",
    "email_regex = r\"\\b[A-Za-z0-9._%+-]+@[A-Za-z0-9.-]+\"\n",
    "\n",
    "# Texte d'origine dans df['Contact'][0]\n",
    "text = df['Contact'][0]\n",
    "\n",
    "# Extraction du numéro de téléphone\n",
    "phone_number = re.search(phone_regex, text)\n",
    "phone_number = phone_number.group() if phone_number else \"\"\n",
    "df.at[0, 'phone number'] = phone_number\n",
    "\n",
    "# Extraction de l'email\n",
    "email = re.search(email_regex, text)\n",
    "email = email.group() if email else \"\"\n",
    "df.at[0, 'email'] = email\n",
    "\n",
    "# Extraction du profil LinkedIn\n",
    "linkedin_profile = \"\"\n",
    "start_index = text.find(\"linkedin.com/in/\")\n",
    "if start_index != -1:\n",
    "    end_index = text.find(\" \", start_index)\n",
    "    if end_index == -1:\n",
    "        end_index = len(text)\n",
    "    linkedin_profile = text[start_index:end_index]\n",
    "df.at[0, 'linkedin'] = linkedin_profile\n",
    "\n",
    "# Affichage du DataFrame mis à jour\n",
    "df.to_csv('my_dataframe.csv', index=False)\n"
   ]
  },
  {
   "cell_type": "code",
   "execution_count": 19,
   "id": "778f61bd-dfd3-4b9e-894a-f6fb72aaee62",
   "metadata": {},
   "outputs": [],
   "source": [
    "df=pd.read_csv(\"my_dataframe.csv\")"
   ]
  },
  {
   "cell_type": "code",
   "execution_count": 20,
   "id": "8aadae28-e6e0-49ae-b6ea-c0b9af7579d9",
   "metadata": {},
   "outputs": [
    {
     "data": {
      "text/plain": [
       "\"['francais', 'anglais', 'allemand']\""
      ]
     },
     "execution_count": 20,
     "metadata": {},
     "output_type": "execute_result"
    }
   ],
   "source": [
    "df['langues'][0]"
   ]
  },
  {
   "cell_type": "code",
   "execution_count": 21,
   "id": "d7c62658-690a-4d36-b216-5378f58aa191",
   "metadata": {},
   "outputs": [],
   "source": [
    "##Compétences"
   ]
  },
  {
   "cell_type": "code",
   "execution_count": 22,
   "id": "767ca5a5-6349-4cba-8fea-27da1a5794ad",
   "metadata": {},
   "outputs": [],
   "source": [
    "technical_skills_list = ['excel','word','java','powerpoint','spring boot', 'Natural Language Processing (NLP)', \n",
    "                         'sap crm', 'quikview', 'Communication Skills',\n",
    "                         'big data analytics', 'Quality Assurance', 'Mobile App Design', \n",
    "                         'Java (Android)', 'sap', 'cloud computing', 'bi', 'c++',\n",
    "                         'Data Science', 'artificial intelligence', 'Networking', 'sql',\n",
    "                         'mobile app design', 'Push Notifications', 'Big Data Analytics', \n",
    "                         'apache hadoop', 'react native', 'Data Warehousing', 'security', 'organisé'\n",
    "                         'machine learning', 'SAP BW/BI', 'React Native', 'sap', 'it support', \n",
    "                         'NoSQL', 'Quikview', 'r', 'aws', 'agile methodology', 'natural language processing (nlp)', \n",
    "                         'Flutter', 'testing', 'sap mm', 'AWS', 'Data Government and Testing', 'Cloud Computing', \n",
    "                         'data mining', 'SAP S/4HANA', 'troubleshooting', 'docker', 'restful apis', 'scripting', \n",
    "                         'Google Cloud', 'data governance and testing', 'SAP MM', 'SAP CRM', 'Python', 'Teamwork', \n",
    "                         'java', 'marketing', 'Predictive Modeling', 'mobile ui/ux', 'business intelligence',\n",
    "                         'database management', 'C++', 'push notifications', 'computer vision', 'data pipeline',\n",
    "                         'google cloud', 'Data Integration', 'version control', 'mobile', 'advanced analytics', \n",
    "                         'IT Support', 'etl (extract, transform, load)', 'front-end frameworks', 'sap sd',\n",
    "                         'Mobile UI/UX', 'data integration', 'data engineerQuikview', 'statistical analysis', \n",
    "                         'Linux/Unix', 'Troubleshooting', 'firebase', 'SAP HANA', 'systems integration', 'python', \n",
    "                         'amplitude', 'agiles', 'sap bw/bi', 'apache spark', 'ETL (Extract, Transform, Load)', \n",
    "                         'Kotlin (Android)', 'problem solving', 'Google Analytics', 'java (android)', 'Data Pipeline',\n",
    "                         'sap fiori', 'Data Mining', 'data studio', 'SQL', 'project management', 'SAP', 'Tableau', \n",
    "                         'Deep Learning', 'Agile Methodology', 'Front-end Frameworks', 'sap abap', 'sap fico', \n",
    "                         'Apache Spark', 'networking', 'Scripting', 'Testing', 'devops', 'Artificial Intelligence',\n",
    "                         'SAP ABAP', 'objective-c (ios)', 'system administration', 'Objective-C (iOS)', \n",
    "                         'Software Development Life Cycle (SDLC)', 'Machine Learning', 'Azure', 'R', \n",
    "                         'informatiqueDatabase Management', 'Business Intelligence', 'web', 'data warehousing', \n",
    "                         'software development life cycle (sdlc)', 'Advanced Analytics', 'data visualization',\n",
    "                         'java','angular', 'Apache Hadoop', 'data engineer','sql', 'Amplitude', 'System Administration', 'Git',\n",
    "                         'Data Visualization', 'Data Studio', 'flutter', 'quality assurance', 'linux/unix', 'SAP ERP', 'swift (ios)', \n",
    "                         'sap erp', 'virtualization', 'Project Management', 'communication skills', 'deep learning', 'Technical Design',\n",
    "                         'back-end frameworks', 'Systems Integration', 'SAP SD', 'google analytics', 'SAP Fiori', 'Statistical Analysis',\n",
    "                         'sap hana', 'Virtualization', 'Problem Solving', 'data science', 'RESTful APIs', 'Security', 'kotlin (android)', \n",
    "                         'predictive modeling', 'Artificiel Intelligence', 'nosql', 'Version Control', 'Data Governance and Testing', \n",
    "                         'SAP FICO', 'php', 'git', 'technical design', 'Back-end Frameworks', 'azure', 'teamwork', 'tableau', \n",
    "                         'Firebase','Swift (iOS)','la modélisation de données','analyse des données',' désireux','dynamique','rapide','english','anglais',\n",
    "                         'français',' rigoureux','autonome','data analyst']\n",
    "\n",
    "\n",
    "# Conversion de la liste en un ensemble (set)\n",
    "technical_skills_list = list(set(technical_skills_list))\n"
   ]
  },
  {
   "cell_type": "code",
   "execution_count": 23,
   "id": "34810f81-7b0f-4b9c-9b8e-db056e786c37",
   "metadata": {},
   "outputs": [],
   "source": [
    "import spacy\n",
    "from spacy.matcher import Matcher\n",
    "\n",
    "# Chargement du modèle pré-entraîné en français\n",
    "nlp = spacy.load('fr_core_news_sm')\n",
    "\n",
    "# Fonction pour extraire les compétences techniques du texte\n",
    "def extract_technical_skills(text):\n",
    "    if text.strip() == \"\":\n",
    "        return None\n",
    "    \n",
    "    doc = nlp(text)\n",
    "    matcher = Matcher(nlp.vocab)\n",
    "    skills = []\n",
    "\n",
    "    # Créer des motifs pour chaque compétence technique\n",
    "    patterns = [[{\"LOWER\": skill}] for skill in technical_skills_list]\n",
    "\n",
    "    # Ajouter les motifs au matcher\n",
    "    matcher.add(\"TechnicalSkills\", patterns)\n",
    "\n",
    "    # Trouver les correspondances dans le texte\n",
    "    matches = matcher(doc)\n",
    "\n",
    "    # Extraire les compétences techniques\n",
    "    for match_id, start, end in matches:\n",
    "        skills.append(doc[start:end].text)\n",
    "\n",
    "    return skills\n",
    "\n",
    "# Convertir les valeurs de la colonne 'competance' en chaînes de caractères\n",
    "df['competance'] = df['competance'].astype(str)\n",
    "\n",
    "# Appliquer la fonction à la colonne 'competance'\n",
    "df['competance'] = df['competance'].apply(extract_technical_skills)\n"
   ]
  },
  {
   "cell_type": "code",
   "execution_count": 24,
   "id": "404b7d00-5d6f-47bd-b191-acdfbeece725",
   "metadata": {},
   "outputs": [
    {
     "data": {
      "text/plain": [
       "[]"
      ]
     },
     "execution_count": 24,
     "metadata": {},
     "output_type": "execute_result"
    }
   ],
   "source": [
    "df['competance'][0]"
   ]
  },
  {
   "cell_type": "code",
   "execution_count": 25,
   "id": "160b824b-96c1-4080-a19a-d2138c61947c",
   "metadata": {},
   "outputs": [],
   "source": [
    "##Profile"
   ]
  },
  {
   "cell_type": "code",
   "execution_count": 26,
   "id": "d5088cd0-70cb-44bf-8aa3-2d5d8c223d10",
   "metadata": {},
   "outputs": [
    {
     "name": "stdout",
     "output_type": "stream",
     "text": [
      "profil  actuellement, étudiant en 3eme année cycle ingénieur en informatique, spécialité ia a esprit.\n"
     ]
    }
   ],
   "source": [
    "import spacy\n",
    "\n",
    "def extract_profile(text):\n",
    "    nlp = spacy.load(\"fr_core_news_sm\")\n",
    "    doc = nlp(text)\n",
    "    profile = \"\"\n",
    "    \n",
    "    for sent in doc.sents:\n",
    "        if \"actuellement\" in sent.text.lower():\n",
    "            profile = sent.text\n",
    "            break\n",
    "    \n",
    "    return profile\n",
    "\n",
    "# Exemple d'utilisation\n",
    "text = df['profile'][0]\n",
    "profile = extract_profile(text)\n",
    "print(profile)\n"
   ]
  },
  {
   "cell_type": "code",
   "execution_count": 27,
   "id": "99b30fd6-2108-4e7c-9794-c472087ec834",
   "metadata": {},
   "outputs": [
    {
     "data": {
      "text/plain": [
       "'aloulou karim etudiant en ingénierie en ia  *  4 karim.aloulou@esprit.tn , 20107299 4 17/08/2001  in https://www.linkedin.com/in/karim-aloulou- 838459241/  q https://github.com/karim-aloulou'"
      ]
     },
     "execution_count": 27,
     "metadata": {},
     "output_type": "execute_result"
    }
   ],
   "source": [
    "df['Contact'][0]"
   ]
  },
  {
   "cell_type": "code",
   "execution_count": 28,
   "id": "744d472f-4858-4452-8e6d-beca5c6ef857",
   "metadata": {},
   "outputs": [
    {
     "data": {
      "text/html": [
       "<div>\n",
       "<style scoped>\n",
       "    .dataframe tbody tr th:only-of-type {\n",
       "        vertical-align: middle;\n",
       "    }\n",
       "\n",
       "    .dataframe tbody tr th {\n",
       "        vertical-align: top;\n",
       "    }\n",
       "\n",
       "    .dataframe thead th {\n",
       "        text-align: right;\n",
       "    }\n",
       "</style>\n",
       "<table border=\"1\" class=\"dataframe\">\n",
       "  <thead>\n",
       "    <tr style=\"text-align: right;\">\n",
       "      <th></th>\n",
       "      <th>profile</th>\n",
       "      <th>competance</th>\n",
       "      <th>experience_professionnelle</th>\n",
       "      <th>formation</th>\n",
       "      <th>langues</th>\n",
       "      <th>centre</th>\n",
       "      <th>Contact</th>\n",
       "      <th>phone number</th>\n",
       "      <th>email</th>\n",
       "      <th>linkedin</th>\n",
       "    </tr>\n",
       "  </thead>\n",
       "  <tbody>\n",
       "    <tr>\n",
       "      <th>0</th>\n",
       "      <td>profil  actuellement, étudiant en 3eme année c...</td>\n",
       "      <td>[]</td>\n",
       "      <td>experiences professionnelles  stagiaire, arab ...</td>\n",
       "      <td>education  ingénierie en intelligence artifici...</td>\n",
       "      <td>['francais', 'anglais', 'allemand']</td>\n",
       "      <td>NaN</td>\n",
       "      <td>aloulou karim etudiant en ingénierie en ia  * ...</td>\n",
       "      <td>20107299</td>\n",
       "      <td>karim.aloulou@esprit.tn</td>\n",
       "      <td>linkedin.com/in/karim-aloulou-</td>\n",
       "    </tr>\n",
       "  </tbody>\n",
       "</table>\n",
       "</div>"
      ],
      "text/plain": [
       "                                             profile competance  \\\n",
       "0  profil  actuellement, étudiant en 3eme année c...         []   \n",
       "\n",
       "                          experience_professionnelle  \\\n",
       "0  experiences professionnelles  stagiaire, arab ...   \n",
       "\n",
       "                                           formation  \\\n",
       "0  education  ingénierie en intelligence artifici...   \n",
       "\n",
       "                               langues  centre  \\\n",
       "0  ['francais', 'anglais', 'allemand']     NaN   \n",
       "\n",
       "                                             Contact  phone number  \\\n",
       "0  aloulou karim etudiant en ingénierie en ia  * ...      20107299   \n",
       "\n",
       "                     email                        linkedin  \n",
       "0  karim.aloulou@esprit.tn  linkedin.com/in/karim-aloulou-  "
      ]
     },
     "execution_count": 28,
     "metadata": {},
     "output_type": "execute_result"
    }
   ],
   "source": [
    "df"
   ]
  },
  {
   "cell_type": "code",
   "execution_count": 29,
   "id": "4fc98bed-90b9-4057-95e4-bde7f016a82e",
   "metadata": {},
   "outputs": [
    {
     "name": "stdout",
     "output_type": "stream",
     "text": [
      "                                             profile competance  \\\n",
      "0  profil  actuellement, étudiant en 3eme année c...         []   \n",
      "\n",
      "                          experience_professionnelle  \\\n",
      "0  experiences professionnelles  stagiaire, arab ...   \n",
      "\n",
      "                                           formation  \\\n",
      "0  education  ingénierie en intelligence artifici...   \n",
      "\n",
      "                               langues centre  \\\n",
      "0  ['francais', 'anglais', 'allemand']   None   \n",
      "\n",
      "                                             Contact  phone number  \\\n",
      "0  aloulou karim etudiant en ingénierie en ia  * ...      20107299   \n",
      "\n",
      "                     email                        linkedin  \n",
      "0  karim.aloulou@esprit.tn  linkedin.com/in/karim-aloulou-  \n"
     ]
    }
   ],
   "source": [
    "import pandas as pd\n",
    "import numpy as np\n",
    "def replace_empty_with_none(df):\n",
    "    # Iterate over each column in the DataFrame\n",
    "    for column in df.columns:\n",
    "        # Check if the column has empty values\n",
    "        if df[column].empty or df[column].dtype == None:\n",
    "            # Replace empty values with None\n",
    "            df[column] = df[column].replace(np.nan, None)\n",
    "    return df\n",
    "\n",
    "# Replace empty values with None\n",
    "new_df = replace_empty_with_none(df)\n",
    "def another_function():\n",
    "    new_df = replace_empty_with_none(df)\n",
    "    return new_df\n",
    "\n",
    "# Print the modified DataFrame\n",
    "print(new_df)"
   ]
  },
  {
   "cell_type": "code",
   "execution_count": 30,
   "id": "1d65ade6-2c30-4dd3-a318-134b2a1f0886",
   "metadata": {},
   "outputs": [
    {
     "data": {
      "text/html": [
       "<div>\n",
       "<style scoped>\n",
       "    .dataframe tbody tr th:only-of-type {\n",
       "        vertical-align: middle;\n",
       "    }\n",
       "\n",
       "    .dataframe tbody tr th {\n",
       "        vertical-align: top;\n",
       "    }\n",
       "\n",
       "    .dataframe thead th {\n",
       "        text-align: right;\n",
       "    }\n",
       "</style>\n",
       "<table border=\"1\" class=\"dataframe\">\n",
       "  <thead>\n",
       "    <tr style=\"text-align: right;\">\n",
       "      <th></th>\n",
       "      <th>profile</th>\n",
       "      <th>competance</th>\n",
       "      <th>experience_professionnelle</th>\n",
       "      <th>formation</th>\n",
       "      <th>langues</th>\n",
       "      <th>centre</th>\n",
       "      <th>Contact</th>\n",
       "      <th>phone number</th>\n",
       "      <th>email</th>\n",
       "      <th>linkedin</th>\n",
       "    </tr>\n",
       "  </thead>\n",
       "  <tbody>\n",
       "    <tr>\n",
       "      <th>0</th>\n",
       "      <td>profil  actuellement, étudiant en 3eme année c...</td>\n",
       "      <td>[]</td>\n",
       "      <td>experiences professionnelles  stagiaire, arab ...</td>\n",
       "      <td>education  ingénierie en intelligence artifici...</td>\n",
       "      <td>['francais', 'anglais', 'allemand']</td>\n",
       "      <td>None</td>\n",
       "      <td>aloulou karim etudiant en ingénierie en ia  * ...</td>\n",
       "      <td>20107299</td>\n",
       "      <td>karim.aloulou@esprit.tn</td>\n",
       "      <td>linkedin.com/in/karim-aloulou-</td>\n",
       "    </tr>\n",
       "  </tbody>\n",
       "</table>\n",
       "</div>"
      ],
      "text/plain": [
       "                                             profile competance  \\\n",
       "0  profil  actuellement, étudiant en 3eme année c...         []   \n",
       "\n",
       "                          experience_professionnelle  \\\n",
       "0  experiences professionnelles  stagiaire, arab ...   \n",
       "\n",
       "                                           formation  \\\n",
       "0  education  ingénierie en intelligence artifici...   \n",
       "\n",
       "                               langues centre  \\\n",
       "0  ['francais', 'anglais', 'allemand']   None   \n",
       "\n",
       "                                             Contact  phone number  \\\n",
       "0  aloulou karim etudiant en ingénierie en ia  * ...      20107299   \n",
       "\n",
       "                     email                        linkedin  \n",
       "0  karim.aloulou@esprit.tn  linkedin.com/in/karim-aloulou-  "
      ]
     },
     "execution_count": 30,
     "metadata": {},
     "output_type": "execute_result"
    }
   ],
   "source": [
    "new_df"
   ]
  },
  {
   "cell_type": "code",
   "execution_count": 31,
   "id": "7ed60cfa-9c0d-4acb-b153-59714656556f",
   "metadata": {},
   "outputs": [
    {
     "data": {
      "text/html": [
       "<div>\n",
       "<style scoped>\n",
       "    .dataframe tbody tr th:only-of-type {\n",
       "        vertical-align: middle;\n",
       "    }\n",
       "\n",
       "    .dataframe tbody tr th {\n",
       "        vertical-align: top;\n",
       "    }\n",
       "\n",
       "    .dataframe thead th {\n",
       "        text-align: right;\n",
       "    }\n",
       "</style>\n",
       "<table border=\"1\" class=\"dataframe\">\n",
       "  <thead>\n",
       "    <tr style=\"text-align: right;\">\n",
       "      <th></th>\n",
       "      <th>profile</th>\n",
       "      <th>competance</th>\n",
       "      <th>experience_professionnelle</th>\n",
       "      <th>formation</th>\n",
       "      <th>langues</th>\n",
       "      <th>centre</th>\n",
       "      <th>Contact</th>\n",
       "      <th>phone number</th>\n",
       "      <th>email</th>\n",
       "      <th>linkedin</th>\n",
       "    </tr>\n",
       "  </thead>\n",
       "  <tbody>\n",
       "    <tr>\n",
       "      <th>0</th>\n",
       "      <td>profil  actuellement, étudiant en 3eme année c...</td>\n",
       "      <td>[]</td>\n",
       "      <td>experiences professionnelles  stagiaire, arab ...</td>\n",
       "      <td>education  ingénierie en intelligence artifici...</td>\n",
       "      <td>['francais', 'anglais', 'allemand']</td>\n",
       "      <td>None</td>\n",
       "      <td>aloulou karim etudiant en ingénierie en ia  * ...</td>\n",
       "      <td>20107299</td>\n",
       "      <td>karim.aloulou@esprit.tn</td>\n",
       "      <td>linkedin.com/in/karim-aloulou-</td>\n",
       "    </tr>\n",
       "  </tbody>\n",
       "</table>\n",
       "</div>"
      ],
      "text/plain": [
       "                                             profile competance  \\\n",
       "0  profil  actuellement, étudiant en 3eme année c...         []   \n",
       "\n",
       "                          experience_professionnelle  \\\n",
       "0  experiences professionnelles  stagiaire, arab ...   \n",
       "\n",
       "                                           formation  \\\n",
       "0  education  ingénierie en intelligence artifici...   \n",
       "\n",
       "                               langues centre  \\\n",
       "0  ['francais', 'anglais', 'allemand']   None   \n",
       "\n",
       "                                             Contact  phone number  \\\n",
       "0  aloulou karim etudiant en ingénierie en ia  * ...      20107299   \n",
       "\n",
       "                     email                        linkedin  \n",
       "0  karim.aloulou@esprit.tn  linkedin.com/in/karim-aloulou-  "
      ]
     },
     "execution_count": 31,
     "metadata": {},
     "output_type": "execute_result"
    }
   ],
   "source": [
    "df"
   ]
  },
  {
   "cell_type": "code",
   "execution_count": 33,
   "id": "d28a5800-377f-4b20-b13a-e2c53c515632",
   "metadata": {},
   "outputs": [],
   "source": [
    "df = df.astype(str)"
   ]
  },
  {
   "cell_type": "code",
   "execution_count": 39,
   "id": "32a1ff33-116a-4467-9adf-18b41041a1ae",
   "metadata": {},
   "outputs": [],
   "source": [
    "df['competance'][0]=None"
   ]
  },
  {
   "cell_type": "code",
   "execution_count": 41,
   "id": "e4a841bc-a63e-4dfe-8605-7cb437cd7931",
   "metadata": {},
   "outputs": [],
   "source": [
    "df.to_csv('Finaloutput.csv', index=False)"
   ]
  },
  {
   "cell_type": "code",
   "execution_count": 40,
   "id": "513dcd31-8d50-41d1-ada8-c6367fb39fbf",
   "metadata": {},
   "outputs": [
    {
     "data": {
      "text/html": [
       "<div>\n",
       "<style scoped>\n",
       "    .dataframe tbody tr th:only-of-type {\n",
       "        vertical-align: middle;\n",
       "    }\n",
       "\n",
       "    .dataframe tbody tr th {\n",
       "        vertical-align: top;\n",
       "    }\n",
       "\n",
       "    .dataframe thead th {\n",
       "        text-align: right;\n",
       "    }\n",
       "</style>\n",
       "<table border=\"1\" class=\"dataframe\">\n",
       "  <thead>\n",
       "    <tr style=\"text-align: right;\">\n",
       "      <th></th>\n",
       "      <th>profile</th>\n",
       "      <th>competance</th>\n",
       "      <th>experience_professionnelle</th>\n",
       "      <th>formation</th>\n",
       "      <th>langues</th>\n",
       "      <th>centre</th>\n",
       "      <th>Contact</th>\n",
       "      <th>phone number</th>\n",
       "      <th>email</th>\n",
       "      <th>linkedin</th>\n",
       "      <th>competence</th>\n",
       "    </tr>\n",
       "  </thead>\n",
       "  <tbody>\n",
       "    <tr>\n",
       "      <th>0</th>\n",
       "      <td>profil  actuellement, étudiant en 3eme année c...</td>\n",
       "      <td>None</td>\n",
       "      <td>experiences professionnelles  stagiaire, arab ...</td>\n",
       "      <td>education  ingénierie en intelligence artifici...</td>\n",
       "      <td>['francais', 'anglais', 'allemand']</td>\n",
       "      <td>None</td>\n",
       "      <td>aloulou karim etudiant en ingénierie en ia  * ...</td>\n",
       "      <td>20107299</td>\n",
       "      <td>karim.aloulou@esprit.tn</td>\n",
       "      <td>linkedin.com/in/karim-aloulou-</td>\n",
       "      <td>None</td>\n",
       "    </tr>\n",
       "  </tbody>\n",
       "</table>\n",
       "</div>"
      ],
      "text/plain": [
       "                                             profile competance  \\\n",
       "0  profil  actuellement, étudiant en 3eme année c...       None   \n",
       "\n",
       "                          experience_professionnelle  \\\n",
       "0  experiences professionnelles  stagiaire, arab ...   \n",
       "\n",
       "                                           formation  \\\n",
       "0  education  ingénierie en intelligence artifici...   \n",
       "\n",
       "                               langues centre  \\\n",
       "0  ['francais', 'anglais', 'allemand']   None   \n",
       "\n",
       "                                             Contact phone number  \\\n",
       "0  aloulou karim etudiant en ingénierie en ia  * ...     20107299   \n",
       "\n",
       "                     email                        linkedin competence  \n",
       "0  karim.aloulou@esprit.tn  linkedin.com/in/karim-aloulou-       None  "
      ]
     },
     "execution_count": 40,
     "metadata": {},
     "output_type": "execute_result"
    }
   ],
   "source": [
    "df"
   ]
  },
  {
   "cell_type": "code",
   "execution_count": null,
   "id": "6fc08267-f2fe-4d9b-976a-2a68411067c3",
   "metadata": {},
   "outputs": [],
   "source": [
    "#Save to Database"
   ]
  },
  {
   "cell_type": "code",
   "execution_count": null,
   "id": "9c7ac1c7-cde0-4b42-b1de-0fbf578b67e0",
   "metadata": {},
   "outputs": [],
   "source": [
    "import pyodbc\n",
    "import configparser\n",
    "# Load the config file\n",
    "config = configparser.ConfigParser()\n",
    "config.read('../../config.ini')\n",
    "cnxn_table = (\n",
    "    \"Driver={\"+config['Database']['Driver']+\"};\"\n",
    "    \"Server=\"+config['Database']['Server']+\";\"\n",
    "    \"Database=\"+config['Database']['Database']+\";\"\n",
    "    \"Trusted_Connection=\"+config['Database']['Trusted_Connection']+\";\")\n",
    "print(cnxn_table)\n",
    "# Establish a database connection\n",
    "connection_table = pyodbc.connect(cnxn_table)\n",
    "print(\"successfully\")"
   ]
  },
  {
   "cell_type": "code",
   "execution_count": null,
   "id": "6f8c4305-e222-4e80-b997-32c5ef1691b5",
   "metadata": {},
   "outputs": [],
   "source": [
    "df.columns"
   ]
  },
  {
   "cell_type": "code",
   "execution_count": null,
   "id": "5b939ffa-a7f6-4bdf-965f-c6897d3ec113",
   "metadata": {},
   "outputs": [],
   "source": [
    "# Création de la table CV avec toutes les colonnes nécessaires si elle n'existe pas déjà\n",
    "cursor.execute('CREATE TABLE CV (CV_id INT IDENTITY(1,1) PRIMARY KEY,'\n",
    "               'Profil NVARCHAR(max), '\n",
    "               'Competences NVARCHAR(max), '\n",
    "               'Experiences_Professionnelles NVARCHAR(max), '\n",
    "               'Formation NVARCHAR(max), '\n",
    "               'Langues NVARCHAR(max), '\n",
    "               'Centre NVARCHAR(max), '\n",
    "               'Contact NVARCHAR(max), '\n",
    "               'Phone_Number NVARCHAR(20), '\n",
    "               'Email NVARCHAR(50), '\n",
    "               'LinkedIn NVARCHAR(255))')\n"
   ]
  },
  {
   "cell_type": "code",
   "execution_count": null,
   "id": "6d276ba6-4c04-45ca-9d71-ac7a9af35c4a",
   "metadata": {},
   "outputs": [],
   "source": [
    "import pyodbc\n",
    "\n",
    "# Connexion à la base de données\n",
    "connection_table = pyodbc.connect(cnxn_table)\n",
    "\n",
    "# Activation de l'autocommit pour valider automatiquement les transactions\n",
    "connection_table.autocommit = True\n",
    "\n",
    "# Création d'un curseur pour exécuter les commandes SQL\n",
    "cursor = connection_table.cursor()\n",
    "\n",
    "# Itération sur les lignes de la DataFrame et insertion de nouvelles lignes dans la table\n",
    "for index, row in df.iterrows():\n",
    "    Profil = row['profile'] \n",
    "    Competences = row['competance']\n",
    "    Experiences_Professionnelles = row['experience_professionnelle']\n",
    "    Formation = row['formation']\n",
    "    Langues = row['langues']\n",
    "    Centre = row['centre']\n",
    "    Contact = row['Contact']\n",
    "    Phone_Number = row['phone number'] \n",
    "    Email = row['email']\n",
    "    LinkedIn = row['linkedin']\n",
    "        # Insertion d'une nouvelle ligne dans la table CV avec toutes les colonnes\n",
    "    cursor.execute('INSERT INTO CV (Profil, Competences, Experiences_Professionnelles, Formation, Langues, Centre, Contact, Phone_Number, Email, LinkedIn) '\n",
    "        'VALUES (?, ?, ?, ?, ?, ?, ?, ?, ?, ?)',\n",
    "    (Profil, Competences, Experiences_Professionnelles, Formation, Langues, Centre, Contact, Phone_Number, Email, LinkedIn))\n",
    "\n",
    "# Validation de la transaction et fermeture du curseur et de la connexion\n",
    "connection_table.commit()\n",
    "cursor.close()\n",
    "connection_table.close()\n"
   ]
  },
  {
   "cell_type": "code",
   "execution_count": null,
   "id": "e76cc32f-d433-4e1c-bb47-3f13f6cbefb3",
   "metadata": {},
   "outputs": [],
   "source": [
    "# Set autocommit to True to automatically commit changes to the database\n",
    "connection_table.autocommit = True\n",
    "\n",
    "# Create a cursor object to execute SQL commands\n",
    "cursor = connection_table.cursor()\n",
    "\n",
    "# Iterate over the rows of the DataFrame and insert new rows into the table\n",
    "for index, row in df.iterrows():\n",
    "    profil = row['profil']\n",
    "    Mail = row['Mail']\n",
    "    nom = row['nom']\n",
    "    prenom = row['prenom']\n",
    "    date_de_naissance = row['date_de_naissance']\n",
    "    competences = row['competences']\n",
    "    experiences = row['experiences']\n",
    "    formation = row['formation']\n",
    "    langues = row['langues']\n",
    "    centres_dinteret = row['centres_dinteret']\n",
    "    contact = row['contact']\n",
    "    \n",
    "    # Insert a new row into the CV table\n",
    "    cursor.execute('INSERT INTO CV (profil, Mail, nom, prenom, date_de_naissance, competences, experiences, formation, langues, centres_dinteret, contact) VALUES (?, ?, ?, ?, ?, ?, ?, ?, ?, ?, ?)', profil, Mail, nom, prenom, date_de_naissance, competences, experiences, formation, langues, centres_dinteret, contact)\n",
    "\n",
    "# Commit the transaction and close the cursor and connection\n",
    "connection_table.commit()\n",
    "cursor.close()\n",
    "connection_table.close()\n"
   ]
  },
  {
   "cell_type": "code",
   "execution_count": null,
   "id": "b522e792-d4d7-4d5d-811a-905a687fb4c3",
   "metadata": {},
   "outputs": [],
   "source": []
  },
  {
   "cell_type": "code",
   "execution_count": 1,
   "id": "fb9f078f-758d-4d49-906f-245f254db2f3",
   "metadata": {},
   "outputs": [],
   "source": [
    "import pandas as pd\n",
    "import numpy as np\n",
    "\n",
    "def replace_nan_with_none(df):\n",
    "    df.replace({np.nan: None}, inplace=True)\n"
   ]
  },
  {
   "cell_type": "code",
   "execution_count": null,
   "id": "f4b130a0-f6f4-4497-a1e9-9023ab1109ad",
   "metadata": {},
   "outputs": [],
   "source": []
  },
  {
   "cell_type": "code",
   "execution_count": null,
   "id": "c9cedc33-f234-43d4-99d9-8edb59d844d4",
   "metadata": {},
   "outputs": [],
   "source": []
  },
  {
   "cell_type": "code",
   "execution_count": 12,
   "id": "c45bc26c-fd6f-40bb-a9c1-ff347439811f",
   "metadata": {},
   "outputs": [
    {
     "name": "stdin",
     "output_type": "stream",
     "text": [
      "Entrez le chemin de l'image :  C:/Users/ASUS/code/src/content/datasets/content/datasets/train/images/cv14_page-0001.jpg\n",
      "Entrez le nom de l'image :  cv14_page-0001.jpg\n"
     ]
    },
    {
     "name": "stderr",
     "output_type": "stream",
     "text": [
      "\n",
      "0: 800x576 1 profile, 1 experience, 1 formation, 1 langues, 1 contact, 532.7ms\n",
      "Speed: 13.0ms preprocess, 532.7ms inference, 0.0ms postprocess per image at shape (1, 3, 800, 800)\n"
     ]
    },
    {
     "name": "stdout",
     "output_type": "stream",
     "text": [
      "C:/Users/ASUS/code/src/content/output/content/output\\profile\\cv14_page-0001-0.jpg\n",
      "C:/Users/ASUS/code/src/content/output/content/output\\experience_professionnelle\\cv14_page-0001-2.jpg\n",
      "C:/Users/ASUS/code/src/content/output/content/output\\formation\\cv14_page-0001-3.jpg\n",
      "C:/Users/ASUS/code/src/content/output/content/output\\langues\\cv14_page-0001-4.jpg\n",
      "C:/Users/ASUS/code/src/content/output/content/output\\Contact\\cv14_page-0001-6.jpg\n",
      "                                             profile  competance  \\\n",
      "0  profil  actuellement, étudiant en 3eme année c...         NaN   \n",
      "\n",
      "                          experience_professionnelle  \\\n",
      "0  experiences professionnelles  stagiaire, arab ...   \n",
      "\n",
      "                                           formation  \\\n",
      "0  education  ingénierie en intelligence artifici...   \n",
      "\n",
      "                                             langues  centre  \\\n",
      "0  langues arabe francais anglais  allemand  dist...     NaN   \n",
      "\n",
      "                                             Contact  \n",
      "0  aloulou karim etudiant en ingénierie en ia  * ...  \n",
      "                                             profile  competance  \\\n",
      "0  profil  actuellement, étudiant en 3eme année c...         NaN   \n",
      "\n",
      "                          experience_professionnelle  \\\n",
      "0  experiences professionnelles  stagiaire, arab ...   \n",
      "\n",
      "                                           formation  \\\n",
      "0  education  ingénierie en intelligence artifici...   \n",
      "\n",
      "                             langues  centre  \\\n",
      "0  arab, francais, anglais, allemand     NaN   \n",
      "\n",
      "                                             Contact  \n",
      "0  aloulou karim etudiant en ingénierie en ia  * ...  \n",
      "Driver={ODBC Driver 17 for SQL Server};Server=ISLEM;Database=job_finder;Trusted_Connection=yes;\n",
      "successfully\n",
      "Data saved to the database successfully.\n"
     ]
    }
   ],
   "source": [
    "import os\n",
    "import cv2\n",
    "import pytesseract\n",
    "import pandas as pd\n",
    "import numpy as np\n",
    "import re\n",
    "import pyodbc\n",
    "import configparser\n",
    "import spacy\n",
    "from spacy.matcher import Matcher\n",
    "from ultralytics import YOLO\n",
    "\n",
    "\n",
    "def replace_empty_with_none(df):\n",
    "    # Iterate over each column in the DataFrame\n",
    "    for column in df.columns:\n",
    "        # Check if the column has empty values\n",
    "        if df[column].empty or df[column].dtype == None:\n",
    "            # Replace empty values with None\n",
    "            df[column] = df[column].replace(np.nan, None)\n",
    "    return df\n",
    "\n",
    "\n",
    "class CVAnalyzer:\n",
    "    def __init__(self):\n",
    "        self.model = None\n",
    "        self.nlp = spacy.load(\"fr_core_news_sm\")\n",
    "\n",
    "    def load_yolo_model(self, model_path):\n",
    "        self.model = YOLO(model_path)\n",
    "\n",
    "    def get_predictions(self, image_path, confidence):\n",
    "        img = cv2.imread(image_path)\n",
    "        results = self.model.predict(source=img, conf=confidence)\n",
    "        return results\n",
    "\n",
    "    def extract_values_from_image(self, img_path, save_path, name, bboxes, probs, names):\n",
    "        img = cv2.imread(img_path)\n",
    "        img2 = img.copy()\n",
    "        class_names = {\n",
    "            0: 'profile',\n",
    "            1: 'competance',\n",
    "            2: 'experience_professionnelle',\n",
    "            3: 'formation',\n",
    "            4: 'langues',\n",
    "            5: 'centre',\n",
    "            6: 'Contact'\n",
    "        }\n",
    "        dicts = {0: {}, 1: {}, 2: {}, 3: {}, 4: {}, 5: {}, 6: {}}\n",
    "        df = pd.DataFrame(columns=['profile', 'competance', 'experience_professionnelle', 'formation', 'langues', 'centre', 'Contact'])\n",
    "\n",
    "        for box, prob, index in zip(bboxes, probs.tolist(), names):\n",
    "            class_dict = dicts[int(index)]\n",
    "            class_dict[prob] = box\n",
    "\n",
    "        for index, class_dict in dicts.items():\n",
    "            if len(class_dict) != 0:\n",
    "                max_prob = max(class_dict.keys())\n",
    "                box = class_dict[max_prob]\n",
    "                x1, y1, x2, y2 = box\n",
    "                x1, y1, x2, y2 = int(x1), int(y1), int(x2), int(y2)\n",
    "                cv2.rectangle(img, (x1, y1), (x2, y2), (0, 0, 255), 2)\n",
    "                cropped_image = img2[y1:y2, x1:x2]\n",
    "                folder_path = class_names[index]\n",
    "                if not os.path.exists(os.path.join(save_path, folder_path)):\n",
    "                    os.makedirs(os.path.join(save_path, folder_path))\n",
    "                file_path = os.path.join(save_path, folder_path, f\"{name.split('.')[0]}-{index}.jpg\")\n",
    "                cv2.imwrite(file_path, cropped_image)\n",
    "                print(file_path)\n",
    "                text = pytesseract.image_to_string(cropped_image)\n",
    "                df.at[0, folder_path] = text if text else None\n",
    "\n",
    "        df.to_csv('my_dataframe.csv', index=False)\n",
    "        return df\n",
    "\n",
    "    def clean_and_sort_dataframe(self, csv_file):\n",
    "        df = pd.read_csv(csv_file)\n",
    "        df = df.apply(lambda x: x.astype(str).str.lower().str.strip() if x.dtype == \"object\" else x)\n",
    "        df = df.replace({'\\n': ' ', '\\r': ' '}, regex=True)\n",
    "        for col in df.columns:\n",
    "            if df[col].dtype == \"object\":\n",
    "                df[col] = df[col].sort_values()\n",
    "        print(df)\n",
    "        return df\n",
    "\n",
    "    def extract_languages_from_dataframe(self, df, language_keywords):\n",
    "        for index, row in df.iterrows():\n",
    "            text = row['langues']\n",
    "            languages = re.findall(r\"\\b([A-Za-zéèëêàâîïôùûü]+)\\b\", text)\n",
    "            normalized_languages = []\n",
    "            for language in languages:\n",
    "                for keyword in language_keywords:\n",
    "                    if keyword.lower() in language.lower():\n",
    "                        normalized_languages.append(keyword)\n",
    "            df.at[index, 'langues'] = ', '.join(normalized_languages) if normalized_languages else None\n",
    "        print(df)\n",
    "\n",
    "    def extract_contact_info(self, df):\n",
    "        # Définition des expressions régulières\n",
    "        phone_regex = r\"\\b\\d{8}\\b\"\n",
    "        email_regex = r\"\\b[A-Za-z0-9._%+-]+@[A-Za-z0-9.-]+\"\n",
    "\n",
    "        for index, row in df.iterrows():\n",
    "            # Texte d'origine dans df['Contact']\n",
    "            text = row['Contact']\n",
    "            # Extraction du numéro de téléphone\n",
    "            phone_number = re.search(phone_regex, text)\n",
    "            phone_number = phone_number.group() if phone_number else \"\"\n",
    "            df.at[index, 'phone number'] = phone_number\n",
    "\n",
    "            # Extraction de l'email\n",
    "            email = re.search(email_regex, text)\n",
    "            email = email.group() if email else \"\"\n",
    "            df.at[index, 'email'] = email\n",
    "\n",
    "            # Extraction du profil LinkedIn\n",
    "            linkedin_profile = \"\"\n",
    "            start_index = text.find(\"linkedin.com/in/\")\n",
    "            if start_index != -1:\n",
    "                end_index = text.find(\" \", start_index)\n",
    "                if end_index == -1:\n",
    "                    end_index = len(text)\n",
    "                linkedin_profile = text[start_index:end_index]\n",
    "            df.at[index, 'linkedin'] = linkedin_profile\n",
    "        return df\n",
    "\n",
    "    def extract_profile(self, text):\n",
    "        doc = self.nlp(text)\n",
    "        profile = \"\"\n",
    "        for sent in doc.sents:\n",
    "            if \"actuellement\" in sent.text.lower():\n",
    "                profile = sent.text\n",
    "                break\n",
    "        return profile\n",
    "\n",
    "    def replace_empty_with_none(self, df):\n",
    "        # Iterate over each column in the DataFrame\n",
    "        for column in df.columns:\n",
    "            # Check if the column has empty values\n",
    "            if df[column].empty or df[column].dtype == None:\n",
    "                # Replace empty values with None\n",
    "                df[column] = df[column].replace(np.nan, None)\n",
    "        return df\n",
    "\n",
    "    def apply_extraction(self, df):\n",
    "        df[\"extracted_profile\"] = df[\"profile\"].apply(self.extract_profile)\n",
    "        return df\n",
    "\n",
    "    def replace(self, df):\n",
    "        new_df = replace_empty_with_none(df)\n",
    "        return new_df\n",
    "\n",
    "    def save_in_database(self, df):\n",
    "        # Load the config file\n",
    "        config = configparser.ConfigParser()\n",
    "        config.read('../../config.ini')\n",
    "        cnxn_table = (\n",
    "            \"Driver={\" + config['Database']['Driver'] + \"};\"\n",
    "            \"Server=\" + config['Database']['Server'] + \";\"\n",
    "            \"Database=\" + config['Database']['Database'] + \";\"\n",
    "            \"Trusted_Connection=\" + config['Database']['Trusted_Connection'] + \";\")\n",
    "        print(cnxn_table)\n",
    "        # Establish a database connection\n",
    "        connection_table = pyodbc.connect(cnxn_table)\n",
    "        print(\"successfully\")\n",
    "        # Connexion à la base de données\n",
    "        connection_table = pyodbc.connect(cnxn_table)\n",
    "\n",
    "        # Activation de l'autocommit pour valider automatiquement les transactions\n",
    "        connection_table.autocommit = True\n",
    "\n",
    "        # Création d'un curseur pour exécuter les commandes SQL\n",
    "        cursor = connection_table.cursor()\n",
    "        # Itération sur les lignes de la DataFrame et insertion de nouvelles lignes dans la table\n",
    "        for index, row in df.iterrows():\n",
    "            Profil = row['profile']\n",
    "            Competences = row['competance']\n",
    "            Experiences_Professionnelles = row['experience_professionnelle']\n",
    "            Formation = row['formation']\n",
    "            Langues = row['langues']\n",
    "            Centre = row['centre']\n",
    "            Contact = row['Contact']\n",
    "            Phone_Number = row['phone number']\n",
    "            Email = row['email']\n",
    "            LinkedIn = row['linkedin']\n",
    "            cursor.execute('SELECT CV_id FROM CV WHERE Profil = ?  AND Competences = ?', Profil, Competences)\n",
    "            CV_id = cursor.fetchone()\n",
    "            CV_id = cursor.execute('SELECT @@IDENTITY').fetchone()[0]\n",
    "            # Insertion d'une nouvelle ligne dans la table CV avec toutes les colonnes\n",
    "            cursor.execute('INSERT INTO CV (Profil, Competences, Experiences_Professionnelles, Formation, Langues, Centre, Contact, Phone_Number, Email, LinkedIn) '\n",
    "                           'VALUES (?, ?, ?, ?, ?, ?, ?, ?, ?, ?)',\n",
    "                           (Profil, Competences, Experiences_Professionnelles, Formation, Langues, Centre, Contact,\n",
    "                            Phone_Number, Email, LinkedIn))\n",
    "        # Validation de la transaction et fermeture du curseur et de la connexion\n",
    "        connection_table.commit()\n",
    "        cursor.close()\n",
    "        connection_table.close()\n",
    "# Configuration\n",
    "config = configparser.ConfigParser()\n",
    "config.read('../../config.ini')\n",
    "model_path = config['MODEL']['Path']\n",
    "analyzer = CVAnalyzer()\n",
    "analyzer.load_yolo_model(model_path)\n",
    "\n",
    "# Saisie du chemin de l'image et du nom dans le terminal\n",
    "image_path = input(\"Entrez le chemin de l'image : \")\n",
    "image_name = input(\"Entrez le nom de l'image : \")\n",
    "\n",
    "try:\n",
    "    results = analyzer.get_predictions(image_path, confidence=0.8)\n",
    "    bboxes = results[0].boxes.xyxy  # les coordonnées des boîtes englobantes\n",
    "    probs = results[0].boxes.conf  # les confiances des prédictions\n",
    "    names = results[0].boxes.cls \n",
    "\n",
    "    # Extraction des valeurs de l'image et création de la DataFrame\n",
    "    df = analyzer.extract_values_from_image(image_path, 'C:/Users/ASUS/code/src/content/output/content/output', image_name, bboxes, probs, names)\n",
    "    df = analyzer.clean_and_sort_dataframe('my_dataframe.csv')\n",
    "    language_keywords = ['francais', 'anglais', 'allemand', 'espagnol', 'italien', 'arab']\n",
    "    analyzer.extract_languages_from_dataframe(df, language_keywords)\n",
    "    df = analyzer.extract_contact_info(df)\n",
    "    df = analyzer.apply_extraction(df)\n",
    "    new_df = analyzer.replace(df)\n",
    "\n",
    "    # Sauvegarde de la DataFrame modifiée dans la base de données\n",
    "    try:\n",
    "        analyzer.save_in_database(new_df)\n",
    "        print(\"Data saved to the database successfully.\")\n",
    "    except pyodbc.Error:\n",
    "        print(\"Failed to save data to the database. Please check the database connection.\")\n",
    "except FileNotFoundError:\n",
    "    print(\"Image not found. Please provide a valid image path.\")\n",
    "except Exception as e:\n",
    "    print(\"An error occurred:\", str(e))\n",
    "\n",
    "\n",
    "\n",
    "\n"
   ]
  },
  {
   "cell_type": "code",
   "execution_count": 9,
   "id": "a4b267b5-b894-4b5e-826b-cf82276f6d3a",
   "metadata": {},
   "outputs": [
    {
     "data": {
      "text/html": [
       "<div>\n",
       "<style scoped>\n",
       "    .dataframe tbody tr th:only-of-type {\n",
       "        vertical-align: middle;\n",
       "    }\n",
       "\n",
       "    .dataframe tbody tr th {\n",
       "        vertical-align: top;\n",
       "    }\n",
       "\n",
       "    .dataframe thead th {\n",
       "        text-align: right;\n",
       "    }\n",
       "</style>\n",
       "<table border=\"1\" class=\"dataframe\">\n",
       "  <thead>\n",
       "    <tr style=\"text-align: right;\">\n",
       "      <th></th>\n",
       "      <th>profile</th>\n",
       "      <th>competance</th>\n",
       "      <th>experience_professionnelle</th>\n",
       "      <th>formation</th>\n",
       "      <th>langues</th>\n",
       "      <th>centre</th>\n",
       "      <th>Contact</th>\n",
       "      <th>phone number</th>\n",
       "      <th>email</th>\n",
       "      <th>linkedin</th>\n",
       "      <th>extracted_profile</th>\n",
       "    </tr>\n",
       "  </thead>\n",
       "  <tbody>\n",
       "    <tr>\n",
       "      <th>0</th>\n",
       "      <td>profil  actuellement, étudiant en 3eme année c...</td>\n",
       "      <td>None</td>\n",
       "      <td>experiences professionnelles  stagiaire, arab ...</td>\n",
       "      <td>education  ingénierie en intelligence artifici...</td>\n",
       "      <td>arab, francais, anglais, allemand</td>\n",
       "      <td>None</td>\n",
       "      <td>aloulou karim etudiant en ingénierie en ia  * ...</td>\n",
       "      <td>20107299</td>\n",
       "      <td>karim.aloulou@esprit.tn</td>\n",
       "      <td>linkedin.com/in/karim-aloulou-</td>\n",
       "      <td>profil  actuellement, étudiant en 3eme année c...</td>\n",
       "    </tr>\n",
       "  </tbody>\n",
       "</table>\n",
       "</div>"
      ],
      "text/plain": [
       "                                             profile competance  \\\n",
       "0  profil  actuellement, étudiant en 3eme année c...       None   \n",
       "\n",
       "                          experience_professionnelle  \\\n",
       "0  experiences professionnelles  stagiaire, arab ...   \n",
       "\n",
       "                                           formation  \\\n",
       "0  education  ingénierie en intelligence artifici...   \n",
       "\n",
       "                             langues centre  \\\n",
       "0  arab, francais, anglais, allemand   None   \n",
       "\n",
       "                                             Contact phone number  \\\n",
       "0  aloulou karim etudiant en ingénierie en ia  * ...     20107299   \n",
       "\n",
       "                     email                        linkedin  \\\n",
       "0  karim.aloulou@esprit.tn  linkedin.com/in/karim-aloulou-   \n",
       "\n",
       "                                   extracted_profile  \n",
       "0  profil  actuellement, étudiant en 3eme année c...  "
      ]
     },
     "execution_count": 9,
     "metadata": {},
     "output_type": "execute_result"
    }
   ],
   "source": [
    "df"
   ]
  },
  {
   "cell_type": "code",
   "execution_count": null,
   "id": "f584f742-3367-4428-9437-5ae8c3de8475",
   "metadata": {},
   "outputs": [],
   "source": []
  }
 ],
 "metadata": {
  "kernelspec": {
   "display_name": "Python 3 (ipykernel)",
   "language": "python",
   "name": "python3"
  },
  "language_info": {
   "codemirror_mode": {
    "name": "ipython",
    "version": 3
   },
   "file_extension": ".py",
   "mimetype": "text/x-python",
   "name": "python",
   "nbconvert_exporter": "python",
   "pygments_lexer": "ipython3",
   "version": "3.9.7"
  }
 },
 "nbformat": 4,
 "nbformat_minor": 5
}
